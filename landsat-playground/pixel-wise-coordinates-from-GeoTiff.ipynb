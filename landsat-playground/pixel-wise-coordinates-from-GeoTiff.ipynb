{
 "cells": [
  {
   "cell_type": "code",
   "execution_count": null,
   "metadata": {},
   "outputs": [],
   "source": [
    "%pip install rasterio\n",
    "%pip install pandas"
   ]
  },
  {
   "cell_type": "code",
   "execution_count": 3,
   "metadata": {},
   "outputs": [],
   "source": [
    "import rasterio as rio\n",
    "import pandas as pd\n",
    "import tifffile as tiff\n",
    "import numpy as np\n",
    "import matplotlib.pyplot as plt"
   ]
  },
  {
   "cell_type": "code",
   "execution_count": 17,
   "metadata": {},
   "outputs": [
    {
     "ename": "KeyboardInterrupt",
     "evalue": "",
     "output_type": "error",
     "traceback": [
      "\u001b[0;31m---------------------------------------------------------------------------\u001b[0m",
      "\u001b[0;31mKeyboardInterrupt\u001b[0m                         Traceback (most recent call last)",
      "\u001b[1;32m/Users/nathanzhu/Library/CloudStorage/OneDrive-Personal/cmu/vision/landsat-playground/pixel-wise-coordinates-from-GeoTiff.ipynb Cell 3\u001b[0m line \u001b[0;36m4\n\u001b[1;32m      <a href='vscode-notebook-cell:/Users/nathanzhu/Library/CloudStorage/OneDrive-Personal/cmu/vision/landsat-playground/pixel-wise-coordinates-from-GeoTiff.ipynb#W2sZmlsZQ%3D%3D?line=1'>2</a>\u001b[0m val \u001b[39m=\u001b[39m dataset\u001b[39m.\u001b[39mread(\u001b[39m3\u001b[39m)\n\u001b[1;32m      <a href='vscode-notebook-cell:/Users/nathanzhu/Library/CloudStorage/OneDrive-Personal/cmu/vision/landsat-playground/pixel-wise-coordinates-from-GeoTiff.ipynb#W2sZmlsZQ%3D%3D?line=2'>3</a>\u001b[0m no_data\u001b[39m=\u001b[39mdataset\u001b[39m.\u001b[39mnodata\n\u001b[0;32m----> <a href='vscode-notebook-cell:/Users/nathanzhu/Library/CloudStorage/OneDrive-Personal/cmu/vision/landsat-playground/pixel-wise-coordinates-from-GeoTiff.ipynb#W2sZmlsZQ%3D%3D?line=3'>4</a>\u001b[0m data \u001b[39m=\u001b[39m [(dataset\u001b[39m.\u001b[39;49mxy(x,y)[\u001b[39m0\u001b[39;49m],dataset\u001b[39m.\u001b[39;49mxy(x,y)[\u001b[39m1\u001b[39;49m],val[x,y]) \u001b[39mfor\u001b[39;49;00m x,y \u001b[39min\u001b[39;49;00m np\u001b[39m.\u001b[39;49mndindex(val\u001b[39m.\u001b[39;49mshape) \u001b[39mif\u001b[39;49;00m val[x,y] \u001b[39m!=\u001b[39;49m no_data]\n\u001b[1;32m      <a href='vscode-notebook-cell:/Users/nathanzhu/Library/CloudStorage/OneDrive-Personal/cmu/vision/landsat-playground/pixel-wise-coordinates-from-GeoTiff.ipynb#W2sZmlsZQ%3D%3D?line=4'>5</a>\u001b[0m lon \u001b[39m=\u001b[39m [i[\u001b[39m0\u001b[39m] \u001b[39mfor\u001b[39;00m i \u001b[39min\u001b[39;00m data]\n\u001b[1;32m      <a href='vscode-notebook-cell:/Users/nathanzhu/Library/CloudStorage/OneDrive-Personal/cmu/vision/landsat-playground/pixel-wise-coordinates-from-GeoTiff.ipynb#W2sZmlsZQ%3D%3D?line=5'>6</a>\u001b[0m lat \u001b[39m=\u001b[39m [i[\u001b[39m1\u001b[39m] \u001b[39mfor\u001b[39;00m i \u001b[39min\u001b[39;00m data]\n",
      "\u001b[1;32m/Users/nathanzhu/Library/CloudStorage/OneDrive-Personal/cmu/vision/landsat-playground/pixel-wise-coordinates-from-GeoTiff.ipynb Cell 3\u001b[0m line \u001b[0;36m4\n\u001b[1;32m      <a href='vscode-notebook-cell:/Users/nathanzhu/Library/CloudStorage/OneDrive-Personal/cmu/vision/landsat-playground/pixel-wise-coordinates-from-GeoTiff.ipynb#W2sZmlsZQ%3D%3D?line=1'>2</a>\u001b[0m val \u001b[39m=\u001b[39m dataset\u001b[39m.\u001b[39mread(\u001b[39m3\u001b[39m)\n\u001b[1;32m      <a href='vscode-notebook-cell:/Users/nathanzhu/Library/CloudStorage/OneDrive-Personal/cmu/vision/landsat-playground/pixel-wise-coordinates-from-GeoTiff.ipynb#W2sZmlsZQ%3D%3D?line=2'>3</a>\u001b[0m no_data\u001b[39m=\u001b[39mdataset\u001b[39m.\u001b[39mnodata\n\u001b[0;32m----> <a href='vscode-notebook-cell:/Users/nathanzhu/Library/CloudStorage/OneDrive-Personal/cmu/vision/landsat-playground/pixel-wise-coordinates-from-GeoTiff.ipynb#W2sZmlsZQ%3D%3D?line=3'>4</a>\u001b[0m data \u001b[39m=\u001b[39m [(dataset\u001b[39m.\u001b[39mxy(x,y)[\u001b[39m0\u001b[39m],dataset\u001b[39m.\u001b[39;49mxy(x,y)[\u001b[39m1\u001b[39m],val[x,y]) \u001b[39mfor\u001b[39;00m x,y \u001b[39min\u001b[39;00m np\u001b[39m.\u001b[39mndindex(val\u001b[39m.\u001b[39mshape) \u001b[39mif\u001b[39;00m val[x,y] \u001b[39m!=\u001b[39m no_data]\n\u001b[1;32m      <a href='vscode-notebook-cell:/Users/nathanzhu/Library/CloudStorage/OneDrive-Personal/cmu/vision/landsat-playground/pixel-wise-coordinates-from-GeoTiff.ipynb#W2sZmlsZQ%3D%3D?line=4'>5</a>\u001b[0m lon \u001b[39m=\u001b[39m [i[\u001b[39m0\u001b[39m] \u001b[39mfor\u001b[39;00m i \u001b[39min\u001b[39;00m data]\n\u001b[1;32m      <a href='vscode-notebook-cell:/Users/nathanzhu/Library/CloudStorage/OneDrive-Personal/cmu/vision/landsat-playground/pixel-wise-coordinates-from-GeoTiff.ipynb#W2sZmlsZQ%3D%3D?line=5'>6</a>\u001b[0m lat \u001b[39m=\u001b[39m [i[\u001b[39m1\u001b[39m] \u001b[39mfor\u001b[39;00m i \u001b[39min\u001b[39;00m data]\n",
      "File \u001b[0;32m/usr/local/lib/python3.11/site-packages/rasterio/transform.py:82\u001b[0m, in \u001b[0;36mTransformMethodsMixin.xy\u001b[0;34m(self, row, col, z, offset, transform_method, **rpc_options)\u001b[0m\n\u001b[1;32m     80\u001b[0m \u001b[39mif\u001b[39;00m \u001b[39mnot\u001b[39;00m transform:\n\u001b[1;32m     81\u001b[0m     \u001b[39mraise\u001b[39;00m \u001b[39mAttributeError\u001b[39;00m(\u001b[39m\"\u001b[39m\u001b[39mDataset has no \u001b[39m\u001b[39m{}\u001b[39;00m\u001b[39m\"\u001b[39m\u001b[39m.\u001b[39mformat(transform_method))\n\u001b[0;32m---> 82\u001b[0m \u001b[39mreturn\u001b[39;00m xy(transform, row, col, zs\u001b[39m=\u001b[39;49mz, offset\u001b[39m=\u001b[39;49moffset, \u001b[39m*\u001b[39;49m\u001b[39m*\u001b[39;49mrpc_options)\n",
      "File \u001b[0;32m/usr/local/lib/python3.11/site-packages/rasterio/transform.py:251\u001b[0m, in \u001b[0;36mxy\u001b[0;34m(transform, rows, cols, zs, offset, **rpc_options)\u001b[0m\n\u001b[1;32m    249\u001b[0m transformer_cls \u001b[39m=\u001b[39m get_transformer(transform, \u001b[39m*\u001b[39m\u001b[39m*\u001b[39mrpc_options)\n\u001b[1;32m    250\u001b[0m \u001b[39mwith\u001b[39;00m transformer_cls() \u001b[39mas\u001b[39;00m transformer:\n\u001b[0;32m--> 251\u001b[0m     \u001b[39mreturn\u001b[39;00m transformer\u001b[39m.\u001b[39;49mxy(rows, cols, zs\u001b[39m=\u001b[39;49mzs, offset\u001b[39m=\u001b[39;49moffset)\n",
      "File \u001b[0;32m/usr/local/lib/python3.11/site-packages/rasterio/transform.py:445\u001b[0m, in \u001b[0;36mTransformerBase.xy\u001b[0;34m(self, rows, cols, zs, offset)\u001b[0m\n\u001b[1;32m    443\u001b[0m     offset_col, offset_row \u001b[39m=\u001b[39m T \u001b[39m*\u001b[39m colrow\n\u001b[1;32m    444\u001b[0m     offset_rows\u001b[39m.\u001b[39mappend(offset_row)\n\u001b[0;32m--> 445\u001b[0m     offset_cols\u001b[39m.\u001b[39mappend(offset_col)\n\u001b[1;32m    447\u001b[0m new_xs, new_ys \u001b[39m=\u001b[39m \u001b[39mself\u001b[39m\u001b[39m.\u001b[39m_transform(\n\u001b[1;32m    448\u001b[0m     offset_cols, offset_rows, zs, transform_direction\u001b[39m=\u001b[39mTransformDirection\u001b[39m.\u001b[39mforward\n\u001b[1;32m    449\u001b[0m )\n\u001b[1;32m    451\u001b[0m \u001b[39mif\u001b[39;00m \u001b[39mlen\u001b[39m(new_xs) \u001b[39m==\u001b[39m \u001b[39m1\u001b[39m \u001b[39mand\u001b[39;00m \u001b[39mnot\u001b[39;00m AS_ARR:\n",
      "\u001b[0;31mKeyboardInterrupt\u001b[0m: "
     ]
    }
   ],
   "source": [
    "with rio.open('./landsat_c2_l1_sample/LC08_L1TP_009047_20230914_20230919_02_T1_refl.tif') as dataset:\n",
    "    val = dataset.read(3)\n",
    "    no_data=dataset.nodata\n",
    "    data = [(dataset.xy(x,y)[0],dataset.xy(x,y)[1],val[x,y]) for x,y in np.ndindex(val.shape) if val[x,y] != no_data]\n",
    "    lon = [i[0] for i in data]\n",
    "    lat = [i[1] for i in data]\n",
    "    d = [i[2] for i in data]\n",
    "    res = pd.DataFrame({\"long\":lon,'lat':lat,\"data\":d})"
   ]
  },
  {
   "cell_type": "code",
   "execution_count": null,
   "metadata": {},
   "outputs": [],
   "source": [
    "import matplotlib.pyplot as plt\n",
    "from rasterio.plot import show\n",
    "fig, ax = plt.subplots(figsize=(8, 8))\n",
    "show(dataset.read(5), transform=dataset.transform,ax=ax)\n",
    "ax.plot(res.x,res.y,'ro', markersize=3)"
   ]
  }
 ],
 "metadata": {
  "kernelspec": {
   "display_name": "Python 3",
   "language": "python",
   "name": "python3"
  },
  "language_info": {
   "codemirror_mode": {
    "name": "ipython",
    "version": 3
   },
   "file_extension": ".py",
   "mimetype": "text/x-python",
   "name": "python",
   "nbconvert_exporter": "python",
   "pygments_lexer": "ipython3",
   "version": "3.11.4"
  },
  "orig_nbformat": 4
 },
 "nbformat": 4,
 "nbformat_minor": 2
}
