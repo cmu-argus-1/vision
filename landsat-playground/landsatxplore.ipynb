{
 "cells": [
  {
   "cell_type": "code",
   "execution_count": 5,
   "metadata": {},
   "outputs": [],
   "source": [
    "import pandas as pd\n",
    "import os"
   ]
  },
  {
   "cell_type": "code",
   "execution_count": 2,
   "metadata": {},
   "outputs": [
    {
     "name": "stdout",
     "output_type": "stream",
     "text": [
      "{'EE': 'EarthExplorer', 'GV': 'GloVis', 'HDDS': 'HDDS Explorer'}\n"
     ]
    }
   ],
   "source": [
    "from landsatxplore.api import API\n",
    "\n",
    "# Retrieve USGS credentials from environment variables\n",
    "username = os.environ.get(\"LANDSAT_USERNAME\")\n",
    "password = os.environ.get(\"LANDSAT_PASSWORD\")\n",
    "\n",
    "# Initialize a new API instance\n",
    "api = API(username, password)\n",
    "\n",
    "# Perform a request\n",
    "response = api.request(endpoint=\"dataset-catalogs\")\n",
    "print(response)\n",
    "\n"
   ]
  },
  {
   "cell_type": "code",
   "execution_count": 3,
   "metadata": {},
   "outputs": [],
   "source": [
    "# Search for Landsat TM scenes\n",
    "scenes = api.search(\n",
    "    dataset='landsat_ot_c2_l2',\n",
    "    latitude=53.36305556,\n",
    "    longitude=-6.15583333,\n",
    "    start_date='2020-01-01',\n",
    "    end_date='2022-12-31',\n",
    "    max_cloud_cover=50\n",
    ")\n",
    "\n",
    "# log out\n",
    "api.logout()"
   ]
  },
  {
   "cell_type": "code",
   "execution_count": 9,
   "metadata": {},
   "outputs": [
    {
     "name": "stdout",
     "output_type": "stream",
     "text": [
      "cloud_cover\n",
      "entity_id\n",
      "display_id\n",
      "ordering_id\n",
      "landsat_product_id\n",
      "landsat_scene_id\n",
      "acquisition_date\n",
      "collection_category\n",
      "collection_number\n",
      "wrs_path\n",
      "wrs_row\n",
      "target_wrs_path\n",
      "target_wrs_row\n",
      "nadir-off_nadir\n",
      "roll_angle\n",
      "date_product_generated\n",
      "start_time\n",
      "stop_time\n",
      "station_id\n",
      "day-night_indicator\n",
      "land_cloud_cover\n",
      "scene_cloud_cover\n",
      "ground_control_points_model\n",
      "ground_control_points_version\n",
      "geometric_rmse_model\n",
      "geometric_rmse_model_x\n",
      "geometric_rmse_model_y\n",
      "processing_software_version\n",
      "sun_elevation_l0ra\n",
      "sun_azimuth_l0ra\n",
      "tirs_ssm_model\n",
      "data_type\n",
      "sensor_id\n",
      "satellite\n",
      "product_map_projection\n",
      "utm_zone\n",
      "datum\n",
      "ellipsoid\n",
      "scene_center_latitude\n",
      "scene_center_longitude\n",
      "corner_upper_left_latitude\n",
      "corner_upper_left_longitude\n",
      "corner_upper_right_latitude\n",
      "corner_upper_right_longitude\n",
      "corner_lower_left_latitude\n",
      "corner_lower_left_longitude\n",
      "corner_lower_right_latitude\n",
      "corner_lower_right_longitude\n",
      "has_customized_metadata\n",
      "options\n",
      "selected\n",
      "spatial_bounds\n",
      "spatial_coverage\n",
      "temporal_coverage\n",
      "publish_date\n"
     ]
    }
   ],
   "source": [
    "# Create a DataFrame from the scenes\n",
    "df_scenes = pd.DataFrame(scenes)\n",
    "for col in df_scenes.columns:\n",
    "    print(col)"
   ]
  },
  {
   "cell_type": "code",
   "execution_count": 10,
   "metadata": {},
   "outputs": [
    {
     "data": {
      "text/html": [
       "<div>\n",
       "<style scoped>\n",
       "    .dataframe tbody tr th:only-of-type {\n",
       "        vertical-align: middle;\n",
       "    }\n",
       "\n",
       "    .dataframe tbody tr th {\n",
       "        vertical-align: top;\n",
       "    }\n",
       "\n",
       "    .dataframe thead th {\n",
       "        text-align: right;\n",
       "    }\n",
       "</style>\n",
       "<table border=\"1\" class=\"dataframe\">\n",
       "  <thead>\n",
       "    <tr style=\"text-align: right;\">\n",
       "      <th></th>\n",
       "      <th>display_id</th>\n",
       "      <th>wrs_path</th>\n",
       "      <th>wrs_row</th>\n",
       "      <th>satellite</th>\n",
       "      <th>cloud_cover</th>\n",
       "      <th>acquisition_date</th>\n",
       "    </tr>\n",
       "  </thead>\n",
       "  <tbody>\n",
       "    <tr>\n",
       "      <th>0</th>\n",
       "      <td>LC08_L2SP_206023_20221118_20221128_02_T1</td>\n",
       "      <td>206</td>\n",
       "      <td>23</td>\n",
       "      <td>8</td>\n",
       "      <td>5</td>\n",
       "      <td>2022-11-18</td>\n",
       "    </tr>\n",
       "    <tr>\n",
       "      <th>1</th>\n",
       "      <td>LC09_L2SP_205023_20221103_20230323_02_T1</td>\n",
       "      <td>205</td>\n",
       "      <td>23</td>\n",
       "      <td>9</td>\n",
       "      <td>34</td>\n",
       "      <td>2022-11-03</td>\n",
       "    </tr>\n",
       "    <tr>\n",
       "      <th>2</th>\n",
       "      <td>LC08_L2SP_205023_20221026_20221107_02_T1</td>\n",
       "      <td>205</td>\n",
       "      <td>23</td>\n",
       "      <td>8</td>\n",
       "      <td>24</td>\n",
       "      <td>2022-10-26</td>\n",
       "    </tr>\n",
       "    <tr>\n",
       "      <th>3</th>\n",
       "      <td>LC09_L2SP_205023_20221018_20230325_02_T1</td>\n",
       "      <td>205</td>\n",
       "      <td>23</td>\n",
       "      <td>9</td>\n",
       "      <td>15</td>\n",
       "      <td>2022-10-18</td>\n",
       "    </tr>\n",
       "    <tr>\n",
       "      <th>4</th>\n",
       "      <td>LC08_L2SP_206023_20221017_20221031_02_T1</td>\n",
       "      <td>206</td>\n",
       "      <td>23</td>\n",
       "      <td>8</td>\n",
       "      <td>27</td>\n",
       "      <td>2022-10-17</td>\n",
       "    </tr>\n",
       "  </tbody>\n",
       "</table>\n",
       "</div>"
      ],
      "text/plain": [
       "                                 display_id  wrs_path  wrs_row  satellite  \\\n",
       "0  LC08_L2SP_206023_20221118_20221128_02_T1       206       23          8   \n",
       "1  LC09_L2SP_205023_20221103_20230323_02_T1       205       23          9   \n",
       "2  LC08_L2SP_205023_20221026_20221107_02_T1       205       23          8   \n",
       "3  LC09_L2SP_205023_20221018_20230325_02_T1       205       23          9   \n",
       "4  LC08_L2SP_206023_20221017_20221031_02_T1       206       23          8   \n",
       "\n",
       "   cloud_cover acquisition_date  \n",
       "0            5       2022-11-18  \n",
       "1           34       2022-11-03  \n",
       "2           24       2022-10-26  \n",
       "3           15       2022-10-18  \n",
       "4           27       2022-10-17  "
      ]
     },
     "metadata": {},
     "output_type": "display_data"
    }
   ],
   "source": [
    "df_scenes = df_scenes[['display_id','wrs_path', 'wrs_row','satellite','cloud_cover','acquisition_date']]\n",
    "df_scenes.sort_values('acquisition_date', ascending=False, inplace=True)\n",
    "display(df_scenes.head())"
   ]
  },
  {
   "cell_type": "code",
   "execution_count": 11,
   "metadata": {},
   "outputs": [
    {
     "name": "stdout",
     "output_type": "stream",
     "text": [
      "Download failed with dataset id 1 of 3. Re-trying with the next one.\n"
     ]
    },
    {
     "name": "stderr",
     "output_type": "stream",
     "text": [
      "825MB [00:31, 27.1MB/s]                            \n"
     ]
    },
    {
     "name": "stdout",
     "output_type": "stream",
     "text": [
      "None of the archived ids succeeded! Update necessary!\n",
      "LC08_L2SP_206023_20221118_20221128_02_T1 error but file exists\n"
     ]
    }
   ],
   "source": [
    "from landsatxplore.earthexplorer import EarthExplorer\n",
    "import os\n",
    "\n",
    "# Initialize the API\n",
    "ee = EarthExplorer(username, password)\n",
    "\n",
    "# Select the first scene\n",
    "ID = 'LC08_L2SP_206023_20221118_20221128_02_T1'\n",
    "\n",
    "# Download the scene \n",
    "try: \n",
    "    ee.download(ID, output_dir='./landsatxplore_data')\n",
    "    print('{} succesful'.format(ID))\n",
    "    \n",
    "# Additional error handling\n",
    "except:\n",
    "    if os.path.isfile('./landsatxplore_data/{}.tar'.format(ID)):\n",
    "        print('{} error but file exists'.format(ID))\n",
    "    else:\n",
    "        print('{} error'.format(ID))\n",
    "\n",
    "ee.logout()"
   ]
  },
  {
   "cell_type": "code",
   "execution_count": 12,
   "metadata": {},
   "outputs": [],
   "source": [
    "import tarfile\n",
    "\n",
    "# Extract files from tar archive\n",
    "tar = tarfile.open('./landsatxplore_data/{}.tar'.format(ID))\n",
    "tar.extractall('./data/{}'.format(ID))\n",
    "tar.close()"
   ]
  },
  {
   "cell_type": "markdown",
   "metadata": {},
   "source": [
    "## Searching for scenes in one region"
   ]
  },
  {
   "cell_type": "code",
   "execution_count": 7,
   "metadata": {},
   "outputs": [
    {
     "name": "stdout",
     "output_type": "stream",
     "text": [
      "100 scenes found.\n"
     ]
    },
    {
     "data": {
      "text/html": [
       "<div>\n",
       "<style scoped>\n",
       "    .dataframe tbody tr th:only-of-type {\n",
       "        vertical-align: middle;\n",
       "    }\n",
       "\n",
       "    .dataframe tbody tr th {\n",
       "        vertical-align: top;\n",
       "    }\n",
       "\n",
       "    .dataframe thead th {\n",
       "        text-align: right;\n",
       "    }\n",
       "</style>\n",
       "<table border=\"1\" class=\"dataframe\">\n",
       "  <thead>\n",
       "    <tr style=\"text-align: right;\">\n",
       "      <th></th>\n",
       "      <th>display_id</th>\n",
       "      <th>wrs_path</th>\n",
       "      <th>wrs_row</th>\n",
       "      <th>satellite</th>\n",
       "      <th>cloud_cover</th>\n",
       "      <th>acquisition_date</th>\n",
       "    </tr>\n",
       "  </thead>\n",
       "  <tbody>\n",
       "    <tr>\n",
       "      <th>0</th>\n",
       "      <td>LC08_L1TP_039025_20231002_20231002_02_RT</td>\n",
       "      <td>39</td>\n",
       "      <td>25</td>\n",
       "      <td>8</td>\n",
       "      <td>34</td>\n",
       "      <td>2023-10-02</td>\n",
       "    </tr>\n",
       "    <tr>\n",
       "      <th>2</th>\n",
       "      <td>LC08_L1TP_039027_20231002_20231002_02_RT</td>\n",
       "      <td>39</td>\n",
       "      <td>27</td>\n",
       "      <td>8</td>\n",
       "      <td>11</td>\n",
       "      <td>2023-10-02</td>\n",
       "    </tr>\n",
       "    <tr>\n",
       "      <th>1</th>\n",
       "      <td>LC08_L1TP_039026_20231002_20231002_02_RT</td>\n",
       "      <td>39</td>\n",
       "      <td>26</td>\n",
       "      <td>8</td>\n",
       "      <td>14</td>\n",
       "      <td>2023-10-02</td>\n",
       "    </tr>\n",
       "    <tr>\n",
       "      <th>3</th>\n",
       "      <td>LC08_L1TP_048026_20231001_20231001_02_RT</td>\n",
       "      <td>48</td>\n",
       "      <td>26</td>\n",
       "      <td>8</td>\n",
       "      <td>16</td>\n",
       "      <td>2023-10-01</td>\n",
       "    </tr>\n",
       "    <tr>\n",
       "      <th>4</th>\n",
       "      <td>LC09_L1TP_042025_20230929_20230930_02_T1</td>\n",
       "      <td>42</td>\n",
       "      <td>25</td>\n",
       "      <td>9</td>\n",
       "      <td>50</td>\n",
       "      <td>2023-09-29</td>\n",
       "    </tr>\n",
       "  </tbody>\n",
       "</table>\n",
       "</div>"
      ],
      "text/plain": [
       "                                 display_id  wrs_path  wrs_row  satellite  \\\n",
       "0  LC08_L1TP_039025_20231002_20231002_02_RT        39       25          8   \n",
       "2  LC08_L1TP_039027_20231002_20231002_02_RT        39       27          8   \n",
       "1  LC08_L1TP_039026_20231002_20231002_02_RT        39       26          8   \n",
       "3  LC08_L1TP_048026_20231001_20231001_02_RT        48       26          8   \n",
       "4  LC09_L1TP_042025_20230929_20230930_02_T1        42       25          9   \n",
       "\n",
       "   cloud_cover acquisition_date  \n",
       "0           34       2023-10-02  \n",
       "2           11       2023-10-02  \n",
       "1           14       2023-10-02  \n",
       "3           16       2023-10-01  \n",
       "4           50       2023-09-29  "
      ]
     },
     "metadata": {},
     "output_type": "display_data"
    }
   ],
   "source": [
    "# Search for Landsat TM scenes\n",
    "scenes_45_26 = api.search(\n",
    "    dataset='landsat_ot_c2_l1',\n",
    "    bbox = (-123.288, 42.551, -110.393, 49.458),\n",
    "    start_date='2014-01-01',\n",
    "    end_date='2023-10-02',\n",
    "    max_cloud_cover=50\n",
    ")\n",
    "\n",
    "print(f\"{len(scenes_45_26)} scenes found.\")\n",
    "\n",
    "# Create a DataFrame from the scenes\n",
    "df_scenes = pd.DataFrame(scenes_45_26)\n",
    "df_scenes.to_csv('landsatxplore_data/scenes_45_26.csv', index=False)\n",
    "df_scenes = df_scenes[['display_id','wrs_path', 'wrs_row','satellite','cloud_cover','acquisition_date']]\n",
    "df_scenes.sort_values('acquisition_date', ascending=False, inplace=True)\n",
    "display(df_scenes.head())\n",
    "\n",
    "# log out\n",
    "api.logout()\n"
   ]
  }
 ],
 "metadata": {
  "kernelspec": {
   "display_name": "landsatxplore_env",
   "language": "python",
   "name": "python3"
  },
  "language_info": {
   "codemirror_mode": {
    "name": "ipython",
    "version": 3
   },
   "file_extension": ".py",
   "mimetype": "text/x-python",
   "name": "python",
   "nbconvert_exporter": "python",
   "pygments_lexer": "ipython3",
   "version": "3.11.5"
  },
  "orig_nbformat": 4
 },
 "nbformat": 4,
 "nbformat_minor": 2
}
