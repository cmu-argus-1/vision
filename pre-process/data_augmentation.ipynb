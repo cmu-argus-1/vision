{
 "cells": [
  {
   "cell_type": "code",
   "execution_count": 3,
   "metadata": {},
   "outputs": [],
   "source": [
    "# import libraries\n",
    "import cv2\n",
    "import os\n",
    "from tqdm import tqdm\n",
    "import numpy as np\n",
    "import random\n",
    "from utils import *"
   ]
  },
  {
   "cell_type": "code",
   "execution_count": 5,
   "metadata": {},
   "outputs": [
    {
     "name": "stdout",
     "output_type": "stream",
     "text": [
      "Output image size: 2592 x 1944\n",
      "Original size of 1.jpg: (1041, 585)\n",
      "Original size of 2.jpg: (1041, 585)\n",
      "Original size of 3.jpg: (1041, 694)\n",
      "Original size of 4.jpg: (2048, 1365)\n",
      "Original size of 5.jpg: (2048, 1365)\n",
      "Original size of 6.jpg: (2048, 1365)\n",
      "Original size of 7.jpg: (800, 531)\n",
      "Original size of 8.jpg: (1041, 694)\n"
     ]
    }
   ],
   "source": [
    "# Resize images\n",
    "def resize_images(input_folder, output_folder, width=2592, height=1944, progress_status=False):\n",
    "    # Check the status of the input folder and output folder\n",
    "    if not check_dir(input_folder) and check_dir(output_folder,True):\n",
    "        print(\"Please check the input folder and output folder\")\n",
    "        return\n",
    "\n",
    "    # List all files in the input folder\n",
    "    files = os.listdir(input_folder)\n",
    "\n",
    "    # print the output image size\n",
    "    print(f\"Output image size: {width} x {height}\")\n",
    "\n",
    "    if progress_status:\n",
    "        # Create a progress bar \n",
    "        progress_bar = tqdm(total=len(files), desc=\"Resizing Images\")\n",
    "\n",
    "    for file in files:\n",
    "        # Check if the file is an image\n",
    "        # We can add more file types here if we want\n",
    "        if file.endswith(('.jpg')):\n",
    "            img = cv2.imread(os.path.join(input_folder, file))\n",
    "\n",
    "            if img is not None:\n",
    "                # Get the original image size\n",
    "                original_size = (img.shape[1], img.shape[0])\n",
    "                print(f\"Original size of {file}: {original_size}\")\n",
    "\n",
    "                # Resize the image\n",
    "                img = cv2.resize(img, (width, height))\n",
    "\n",
    "                # Save the resized image to the output folder\n",
    "                output_path = os.path.join(output_folder, file)\n",
    "                cv2.imwrite(output_path, img)\n",
    "        else:\n",
    "            print(f\"Skipping file: {file} (not an image)\")\n",
    "        if progress_status:\n",
    "            # Update the progress bar\n",
    "            progress_bar.update(1)\n",
    "\n",
    "    if progress_status:\n",
    "        # Close the progress bar when done\n",
    "        progress_bar.close()\n",
    "\n",
    "input_folder = \"../images/horizon/original\"\n",
    "output_folder = \"../images/horizon/resized\"\n",
    "resize_images(input_folder, output_folder)"
   ]
  },
  {
   "cell_type": "code",
   "execution_count": 19,
   "metadata": {},
   "outputs": [
    {
     "name": "stderr",
     "output_type": "stream",
     "text": [
      "Augmenting Images: 100%|██████████| 8/8 [00:04<00:00,  1.75it/s]\n"
     ]
    }
   ],
   "source": [
    "# Augment images\n",
    "def augment_images(input_folder, output_folder, num_augmented_images=5, progress_status=False):\n",
    "    # Check the status of the input folder and output folder\n",
    "    if not check_dir(input_folder) and check_dir(output_folder,True):\n",
    "        print(\"Please check the input folder and output folder\")\n",
    "        return\n",
    "\n",
    "    # List all files in the input folder\n",
    "    files = os.listdir(input_folder)\n",
    "\n",
    "    if progress_status:\n",
    "        # Create a progress bar \n",
    "        progress_bar = tqdm(total=len(files), desc=\"Augmenting Images\")\n",
    "\n",
    "    for file in files:\n",
    "        # Check if the file is an image, we can add more file types here if we want\n",
    "        if file.endswith(('.jpg')):\n",
    "            # Read the original image using OpenCV\n",
    "            img = cv2.imread(os.path.join(input_folder, file))\n",
    "\n",
    "            augmented_images = [img]  # Store the original image as the first one\n",
    "\n",
    "            # Apply data augmentation techniques multiple times\n",
    "            for i in range(num_augmented_images):\n",
    "                augmented_img = img.copy()\n",
    "\n",
    "                # Randomly adjust brightness\n",
    "                brightness_factor = random.uniform(0.7, 1.3)\n",
    "                augmented_img = cv2.convertScaleAbs(augmented_img, alpha=brightness_factor, beta=0)\n",
    "\n",
    "                # Randomly adjust contrast\n",
    "                contrast_factor = random.uniform(0.7, 1.3)\n",
    "                augmented_img = cv2.convertScaleAbs(augmented_img, alpha=contrast_factor, beta=0)\n",
    "\n",
    "                # Randomly rotate the image without leaving black edges\n",
    "                angle = random.uniform(-10, 10)\n",
    "                rows, cols, _ = augmented_img.shape\n",
    "                M = cv2.getRotationMatrix2D((cols / 2, rows / 2), angle, 1)\n",
    "                augmented_img = cv2.warpAffine(augmented_img, M, (cols, rows), borderMode=cv2.BORDER_DEFAULT)\n",
    "                # TODO: rotate needs to be fixed because it may cause some strange effects\n",
    "\n",
    "                augmented_images.append(augmented_img)\n",
    "\n",
    "            # Save the augmented images to the output folder\n",
    "            for idx, augmented_img in enumerate(augmented_images):\n",
    "                output_filename = f\"{os.path.splitext(file)[0]}_augmented_{idx}{os.path.splitext(file)[1]}\"\n",
    "                output_path = os.path.join(output_folder, output_filename)\n",
    "                cv2.imwrite(output_path, augmented_img)\n",
    "\n",
    "            if progress_status:\n",
    "                # Update the progress bar\n",
    "                progress_bar.update(1)\n",
    "\n",
    "    if progress_status:\n",
    "        # Close the progress bar when done\n",
    "        progress_bar.close()\n",
    "\n",
    "input_folder = \"../images/horizon/resized\"\n",
    "output_folder = \"../images/horizon/augmented\"\n",
    "augment_images(input_folder, output_folder, num_augmented_images=5, progress_status=True)\n"
   ]
  }
 ],
 "metadata": {
  "kernelspec": {
   "display_name": "Python 3",
   "language": "python",
   "name": "python3"
  },
  "language_info": {
   "codemirror_mode": {
    "name": "ipython",
    "version": 3
   },
   "file_extension": ".py",
   "mimetype": "text/x-python",
   "name": "python",
   "nbconvert_exporter": "python",
   "pygments_lexer": "ipython3",
   "version": "3.10.5"
  },
  "orig_nbformat": 4
 },
 "nbformat": 4,
 "nbformat_minor": 2
}
